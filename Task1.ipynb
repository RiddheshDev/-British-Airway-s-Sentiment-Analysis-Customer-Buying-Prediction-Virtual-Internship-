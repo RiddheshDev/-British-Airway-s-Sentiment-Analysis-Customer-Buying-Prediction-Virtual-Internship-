{
 "cells": [
  {
   "cell_type": "markdown",
   "metadata": {},
   "source": [
    "# Task 1\n",
    "\n",
    "---\n",
    "\n",
    "## Web scraping and analysis\n",
    "\n",
    "This Jupyter notebook includes some code to get you started with web scraping. We will use a package called `BeautifulSoup` to collect the data from the web. Once you've collected your data and saved it into a local `.csv` file you should start with your analysis.\n",
    "\n",
    "### Scraping data from Skytrax\n",
    "\n",
    "If you visit [https://www.airlinequality.com] you can see that there is a lot of data there. For this task, we are only interested in reviews related to British Airways and the Airline itself.\n",
    "\n",
    "If you navigate to this link: [https://www.airlinequality.com/airline-reviews/british-airways] you will see this data. Now, we can use `Python` and `BeautifulSoup` to collect all the links to the reviews and then to collect the text data on each of the individual review links."
   ]
  },
  {
   "cell_type": "code",
   "execution_count": 1,
   "metadata": {},
   "outputs": [],
   "source": [
    "import requests\n",
    "from bs4 import BeautifulSoup\n",
    "import pandas as pd\n",
    "import matplotlib.pyplot as plt\n",
    "import seaborn as sns\n"
   ]
  },
  {
   "cell_type": "code",
   "execution_count": 2,
   "metadata": {},
   "outputs": [],
   "source": [
    "# base_url = \"https://www.airlinequality.com/airline-reviews/british-airways\"\n",
    "# pages = 10\n",
    "# page_size = 100\n",
    "\n",
    "# reviews = []\n",
    "\n",
    "# # for i in range(1, pages + 1):\n",
    "# for i in range(1, pages + 1):\n",
    "\n",
    "#     print(f\"Scraping page {i}\")\n",
    "\n",
    "#     # Create URL to collect links from paginated data\n",
    "#     url = f\"{base_url}/page/{i}/?sortby=post_date%3ADesc&pagesize={page_size}\"\n",
    "\n",
    "#     # Collect HTML data from this page\n",
    "#     response = requests.get(url)\n",
    "\n",
    "#     # Parse content\n",
    "#     content = response.content\n",
    "#     parsed_content = BeautifulSoup(content, 'html.parser')\n",
    "#     for para in parsed_content.find_all(\"div\", {\"class\": \"text_content\"}):\n",
    "#         reviews.append(para.get_text())\n",
    "    \n",
    "#     print(f\"   ---> {len(reviews)} total reviews\")"
   ]
  },
  {
   "cell_type": "code",
   "execution_count": 3,
   "metadata": {},
   "outputs": [],
   "source": [
    "# df = pd.DataFrame()\n",
    "# df[\"reviews\"] = reviews\n",
    "# df.head()"
   ]
  },
  {
   "cell_type": "code",
   "execution_count": 4,
   "metadata": {},
   "outputs": [],
   "source": [
    "# df.to_csv(\"BA_reviews.csv\",header= True,index=False)"
   ]
  },
  {
   "cell_type": "markdown",
   "metadata": {},
   "source": [
    "Congratulations! Now you have your dataset for this task! The loops above collected 1000 reviews by iterating through the paginated pages on the website. However, if you want to collect more data, try increasing the number of pages!\n",
    "\n",
    " The next thing that you should do is clean this data to remove any unnecessary text from each of the rows. For example, \"✅ Trip Verified\" can be removed from each row if it exists, as it's not relevant to what we want to investigate."
   ]
  },
  {
   "cell_type": "code",
   "execution_count": 5,
   "metadata": {},
   "outputs": [],
   "source": [
    "# df.head(10)"
   ]
  },
  {
   "cell_type": "code",
   "execution_count": 6,
   "metadata": {},
   "outputs": [],
   "source": [
    "from tqdm.notebook import tqdm\n",
    "import re"
   ]
  },
  {
   "cell_type": "code",
   "execution_count": 7,
   "metadata": {},
   "outputs": [],
   "source": [
    "# import re\n",
    "\n",
    "# for i, review in enumerate(df['reviews']):\n",
    "#     review = re.sub('Not Verified \\|', '', review)\n",
    "#     review = re.sub('✅ Trip Verified \\|', '', review)\n",
    "#     review = review.strip()\n",
    "#     df.loc[i, 'reviews'] = review\n"
   ]
  },
  {
   "cell_type": "code",
   "execution_count": 8,
   "metadata": {},
   "outputs": [],
   "source": [
    "# df.head()"
   ]
  },
  {
   "cell_type": "code",
   "execution_count": 9,
   "metadata": {},
   "outputs": [],
   "source": [
    "# df.to_csv('cleanded review.csv',header=True,index= False)"
   ]
  },
  {
   "cell_type": "code",
   "execution_count": 10,
   "metadata": {},
   "outputs": [
    {
     "data": {
      "text/html": [
       "<div>\n",
       "<style scoped>\n",
       "    .dataframe tbody tr th:only-of-type {\n",
       "        vertical-align: middle;\n",
       "    }\n",
       "\n",
       "    .dataframe tbody tr th {\n",
       "        vertical-align: top;\n",
       "    }\n",
       "\n",
       "    .dataframe thead th {\n",
       "        text-align: right;\n",
       "    }\n",
       "</style>\n",
       "<table border=\"1\" class=\"dataframe\">\n",
       "  <thead>\n",
       "    <tr style=\"text-align: right;\">\n",
       "      <th></th>\n",
       "      <th>reviews</th>\n",
       "    </tr>\n",
       "  </thead>\n",
       "  <tbody>\n",
       "    <tr>\n",
       "      <th>0</th>\n",
       "      <td>Food was lousy. Who ever is planning the Asian...</td>\n",
       "    </tr>\n",
       "    <tr>\n",
       "      <th>1</th>\n",
       "      <td>Had the worst experience. The flight from Lond...</td>\n",
       "    </tr>\n",
       "    <tr>\n",
       "      <th>2</th>\n",
       "      <td>The ground staff were not helpful. Felt like a...</td>\n",
       "    </tr>\n",
       "    <tr>\n",
       "      <th>3</th>\n",
       "      <td>Second time BA Premium Economy in a newer airc...</td>\n",
       "    </tr>\n",
       "    <tr>\n",
       "      <th>4</th>\n",
       "      <td>They changed our Flights from Brussels to Lond...</td>\n",
       "    </tr>\n",
       "  </tbody>\n",
       "</table>\n",
       "</div>"
      ],
      "text/plain": [
       "                                             reviews\n",
       "0  Food was lousy. Who ever is planning the Asian...\n",
       "1  Had the worst experience. The flight from Lond...\n",
       "2  The ground staff were not helpful. Felt like a...\n",
       "3  Second time BA Premium Economy in a newer airc...\n",
       "4  They changed our Flights from Brussels to Lond..."
      ]
     },
     "execution_count": 10,
     "metadata": {},
     "output_type": "execute_result"
    }
   ],
   "source": [
    "reviewdf = pd.read_csv(r'D:\\internship\\BA\\cleanded review.csv')\n",
    "reviewdf.head()"
   ]
  },
  {
   "attachments": {},
   "cell_type": "markdown",
   "metadata": {},
   "source": [
    "# Sentiment analysis using vader model\n"
   ]
  },
  {
   "cell_type": "code",
   "execution_count": 11,
   "metadata": {},
   "outputs": [],
   "source": [
    "import nltk\n",
    "from nltk.sentiment import SentimentIntensityAnalyzer\n",
    "sia = SentimentIntensityAnalyzer()"
   ]
  },
  {
   "cell_type": "code",
   "execution_count": 12,
   "metadata": {},
   "outputs": [
    {
     "name": "stdout",
     "output_type": "stream",
     "text": [
      "Food was lousy. Who ever is planning the Asian Hindu Vegetarian meal is clueless as to what this meal includes. The snack was also lousy. It took us 2 hours just to go from T5 to T3 and clear security check. The place was chaotic. We get to our boarding gate and again a long line with 40 minutes wait for someone to check passport and boarding pass. Seats in Premium economy was ok, but when the passenger in front reclines, there is very little space for the window seat passenger to cross over. Overall not a good airline.\n"
     ]
    },
    {
     "data": {
      "text/plain": [
       "{'neg': 0.11, 'neu': 0.842, 'pos': 0.049, 'compound': -0.7476}"
      ]
     },
     "execution_count": 12,
     "metadata": {},
     "output_type": "execute_result"
    }
   ],
   "source": [
    "example = reviewdf['reviews'][0]\n",
    "print(example)\n",
    "sia.polarity_scores(example)"
   ]
  },
  {
   "cell_type": "code",
   "execution_count": 13,
   "metadata": {},
   "outputs": [
    {
     "data": {
      "application/vnd.jupyter.widget-view+json": {
       "model_id": "d1845edbee5241e99171b7c90a135488",
       "version_major": 2,
       "version_minor": 0
      },
      "text/plain": [
       "  0%|          | 0/1000 [00:00<?, ?it/s]"
      ]
     },
     "metadata": {},
     "output_type": "display_data"
    }
   ],
   "source": [
    "vader = {'reviews':[],'neg' : [],'neu':[],'pos':[],'compound':[]}\n",
    "for i, review in tqdm(enumerate(reviewdf['reviews']),total= len(reviewdf)):\n",
    "    polarity_Score = sia.polarity_scores(review)\n",
    "    vader['reviews'].append(review)\n",
    "    vader['neg'].append(polarity_Score['neg'])\n",
    "    vader['neu'].append(polarity_Score['neu'])\n",
    "    vader['pos'].append(polarity_Score['pos'])\n",
    "    vader['compound'].append(polarity_Score['compound'])"
   ]
  },
  {
   "cell_type": "code",
   "execution_count": 14,
   "metadata": {},
   "outputs": [
    {
     "data": {
      "text/html": [
       "<div>\n",
       "<style scoped>\n",
       "    .dataframe tbody tr th:only-of-type {\n",
       "        vertical-align: middle;\n",
       "    }\n",
       "\n",
       "    .dataframe tbody tr th {\n",
       "        vertical-align: top;\n",
       "    }\n",
       "\n",
       "    .dataframe thead th {\n",
       "        text-align: right;\n",
       "    }\n",
       "</style>\n",
       "<table border=\"1\" class=\"dataframe\">\n",
       "  <thead>\n",
       "    <tr style=\"text-align: right;\">\n",
       "      <th></th>\n",
       "      <th>reviews</th>\n",
       "      <th>neg</th>\n",
       "      <th>neu</th>\n",
       "      <th>pos</th>\n",
       "      <th>compound</th>\n",
       "    </tr>\n",
       "  </thead>\n",
       "  <tbody>\n",
       "    <tr>\n",
       "      <th>0</th>\n",
       "      <td>Food was lousy. Who ever is planning the Asian...</td>\n",
       "      <td>0.110</td>\n",
       "      <td>0.842</td>\n",
       "      <td>0.049</td>\n",
       "      <td>-0.7476</td>\n",
       "    </tr>\n",
       "    <tr>\n",
       "      <th>1</th>\n",
       "      <td>Had the worst experience. The flight from Lond...</td>\n",
       "      <td>0.110</td>\n",
       "      <td>0.866</td>\n",
       "      <td>0.023</td>\n",
       "      <td>-0.8604</td>\n",
       "    </tr>\n",
       "    <tr>\n",
       "      <th>2</th>\n",
       "      <td>The ground staff were not helpful. Felt like a...</td>\n",
       "      <td>0.166</td>\n",
       "      <td>0.834</td>\n",
       "      <td>0.000</td>\n",
       "      <td>-0.8537</td>\n",
       "    </tr>\n",
       "    <tr>\n",
       "      <th>3</th>\n",
       "      <td>Second time BA Premium Economy in a newer airc...</td>\n",
       "      <td>0.052</td>\n",
       "      <td>0.677</td>\n",
       "      <td>0.270</td>\n",
       "      <td>0.9714</td>\n",
       "    </tr>\n",
       "    <tr>\n",
       "      <th>4</th>\n",
       "      <td>They changed our Flights from Brussels to Lond...</td>\n",
       "      <td>0.096</td>\n",
       "      <td>0.866</td>\n",
       "      <td>0.038</td>\n",
       "      <td>-0.8055</td>\n",
       "    </tr>\n",
       "  </tbody>\n",
       "</table>\n",
       "</div>"
      ],
      "text/plain": [
       "                                             reviews    neg    neu    pos  \\\n",
       "0  Food was lousy. Who ever is planning the Asian...  0.110  0.842  0.049   \n",
       "1  Had the worst experience. The flight from Lond...  0.110  0.866  0.023   \n",
       "2  The ground staff were not helpful. Felt like a...  0.166  0.834  0.000   \n",
       "3  Second time BA Premium Economy in a newer airc...  0.052  0.677  0.270   \n",
       "4  They changed our Flights from Brussels to Lond...  0.096  0.866  0.038   \n",
       "\n",
       "   compound  \n",
       "0   -0.7476  \n",
       "1   -0.8604  \n",
       "2   -0.8537  \n",
       "3    0.9714  \n",
       "4   -0.8055  "
      ]
     },
     "execution_count": 14,
     "metadata": {},
     "output_type": "execute_result"
    }
   ],
   "source": [
    "vader = pd.DataFrame.from_dict(vader)\n",
    "vader.head()"
   ]
  },
  {
   "cell_type": "code",
   "execution_count": 15,
   "metadata": {},
   "outputs": [
    {
     "data": {
      "application/vnd.jupyter.widget-view+json": {
       "model_id": "97c81d6442b04050989b08a6f5412539",
       "version_major": 2,
       "version_minor": 0
      },
      "text/plain": [
       "  0%|          | 0/1000 [00:00<?, ?it/s]"
      ]
     },
     "metadata": {},
     "output_type": "display_data"
    }
   ],
   "source": [
    "for i, compound in tqdm(enumerate(vader['compound']), total=len(vader)):\n",
    "    if compound > 0.05:\n",
    "        vader.loc[i, 'reviewtype'] = 'positive'\n",
    "    elif compound < -0.05:\n",
    "        vader.loc[i, 'reviewtype'] = 'negative'\n",
    "    else:\n",
    "        vader.loc[i, 'reviewtype'] = 'neutral'"
   ]
  },
  {
   "cell_type": "code",
   "execution_count": 16,
   "metadata": {},
   "outputs": [
    {
     "data": {
      "text/html": [
       "<div>\n",
       "<style scoped>\n",
       "    .dataframe tbody tr th:only-of-type {\n",
       "        vertical-align: middle;\n",
       "    }\n",
       "\n",
       "    .dataframe tbody tr th {\n",
       "        vertical-align: top;\n",
       "    }\n",
       "\n",
       "    .dataframe thead th {\n",
       "        text-align: right;\n",
       "    }\n",
       "</style>\n",
       "<table border=\"1\" class=\"dataframe\">\n",
       "  <thead>\n",
       "    <tr style=\"text-align: right;\">\n",
       "      <th></th>\n",
       "      <th>reviews</th>\n",
       "      <th>neg</th>\n",
       "      <th>neu</th>\n",
       "      <th>pos</th>\n",
       "      <th>compound</th>\n",
       "      <th>reviewtype</th>\n",
       "    </tr>\n",
       "  </thead>\n",
       "  <tbody>\n",
       "    <tr>\n",
       "      <th>0</th>\n",
       "      <td>Food was lousy. Who ever is planning the Asian...</td>\n",
       "      <td>0.110</td>\n",
       "      <td>0.842</td>\n",
       "      <td>0.049</td>\n",
       "      <td>-0.7476</td>\n",
       "      <td>negative</td>\n",
       "    </tr>\n",
       "    <tr>\n",
       "      <th>1</th>\n",
       "      <td>Had the worst experience. The flight from Lond...</td>\n",
       "      <td>0.110</td>\n",
       "      <td>0.866</td>\n",
       "      <td>0.023</td>\n",
       "      <td>-0.8604</td>\n",
       "      <td>negative</td>\n",
       "    </tr>\n",
       "    <tr>\n",
       "      <th>2</th>\n",
       "      <td>The ground staff were not helpful. Felt like a...</td>\n",
       "      <td>0.166</td>\n",
       "      <td>0.834</td>\n",
       "      <td>0.000</td>\n",
       "      <td>-0.8537</td>\n",
       "      <td>negative</td>\n",
       "    </tr>\n",
       "    <tr>\n",
       "      <th>3</th>\n",
       "      <td>Second time BA Premium Economy in a newer airc...</td>\n",
       "      <td>0.052</td>\n",
       "      <td>0.677</td>\n",
       "      <td>0.270</td>\n",
       "      <td>0.9714</td>\n",
       "      <td>positive</td>\n",
       "    </tr>\n",
       "    <tr>\n",
       "      <th>4</th>\n",
       "      <td>They changed our Flights from Brussels to Lond...</td>\n",
       "      <td>0.096</td>\n",
       "      <td>0.866</td>\n",
       "      <td>0.038</td>\n",
       "      <td>-0.8055</td>\n",
       "      <td>negative</td>\n",
       "    </tr>\n",
       "  </tbody>\n",
       "</table>\n",
       "</div>"
      ],
      "text/plain": [
       "                                             reviews    neg    neu    pos  \\\n",
       "0  Food was lousy. Who ever is planning the Asian...  0.110  0.842  0.049   \n",
       "1  Had the worst experience. The flight from Lond...  0.110  0.866  0.023   \n",
       "2  The ground staff were not helpful. Felt like a...  0.166  0.834  0.000   \n",
       "3  Second time BA Premium Economy in a newer airc...  0.052  0.677  0.270   \n",
       "4  They changed our Flights from Brussels to Lond...  0.096  0.866  0.038   \n",
       "\n",
       "   compound reviewtype  \n",
       "0   -0.7476   negative  \n",
       "1   -0.8604   negative  \n",
       "2   -0.8537   negative  \n",
       "3    0.9714   positive  \n",
       "4   -0.8055   negative  "
      ]
     },
     "execution_count": 16,
     "metadata": {},
     "output_type": "execute_result"
    }
   ],
   "source": [
    "vader.head()"
   ]
  },
  {
   "cell_type": "code",
   "execution_count": 17,
   "metadata": {},
   "outputs": [
    {
     "data": {
      "text/plain": [
       "<AxesSubplot: xlabel='reviewtype'>"
      ]
     },
     "execution_count": 17,
     "metadata": {},
     "output_type": "execute_result"
    },
    {
     "data": {
      "image/png": "[encoded data removed]",
      "text/plain": [
       "<Figure size 720x360 with 1 Axes>"
      ]
     },
     "metadata": {
      "needs_background": "light"
     },
     "output_type": "display_data"
    }
   ],
   "source": [
    "vader.groupby('reviewtype')['reviewtype'].count().sort_values(ascending=True).plot(kind='bar',figsize=(10,5))"
   ]
  },
  {
   "cell_type": "code",
   "execution_count": 44,
   "metadata": {},
   "outputs": [],
   "source": [
    "order = vader.reviewtype.value_counts().sort_values(ascending= True).index"
   ]
  },
  {
   "cell_type": "code",
   "execution_count": 57,
   "metadata": {},
   "outputs": [
    {
     "data": {
      "text/plain": [
       "Text(0, 0.5, 'Count of reviews')"
      ]
     },
     "execution_count": 57,
     "metadata": {},
     "output_type": "execute_result"
    },
    {
     "data": {
      "image/png": "[encoded data removed]",
      "text/plain": [
       "<Figure size 432x288 with 1 Axes>"
      ]
     },
     "metadata": {},
     "output_type": "display_data"
    }
   ],
   "source": [
    "ax = sns.countplot(data = vader,x='reviewtype',order= order)\n",
    "plt.title('VADER model scores')\n",
    "plt.xlabel('Review types')\n",
    "plt.ylabel('Count of reviews')"
   ]
  },
  {
   "attachments": {},
   "cell_type": "markdown",
   "metadata": {},
   "source": [
    "# BERT model"
   ]
  },
  {
   "cell_type": "code",
   "execution_count": 20,
   "metadata": {},
   "outputs": [],
   "source": [
    "import transformers\n",
    "from transformers import AutoTokenizer , AutoModelForSequenceClassification\n",
    "import torch\n",
    "from torch import argmax"
   ]
  },
  {
   "cell_type": "code",
   "execution_count": 21,
   "metadata": {},
   "outputs": [],
   "source": [
    "bert_token = AutoTokenizer.from_pretrained('nlptown/bert-base-multilingual-uncased-sentiment')\n",
    "bert = AutoModelForSequenceClassification.from_pretrained('nlptown/bert-base-multilingual-uncased-sentiment')"
   ]
  },
  {
   "cell_type": "code",
   "execution_count": 22,
   "metadata": {},
   "outputs": [
    {
     "name": "stdout",
     "output_type": "stream",
     "text": [
      "SequenceClassifierOutput(loss=None, logits=tensor([[ 2.7197,  2.8134,  0.7878, -1.9633, -3.4900]],\n",
      "       grad_fn=<AddmmBackward0>), hidden_states=None, attentions=None)\n"
     ]
    },
    {
     "data": {
      "text/plain": [
       "2"
      ]
     },
     "execution_count": 22,
     "metadata": {},
     "output_type": "execute_result"
    }
   ],
   "source": [
    "bert_tokens =  bert_token.encode(example,return_tensors='pt')\n",
    "result = bert(bert_tokens)\n",
    "\n",
    "print(result)\n",
    "int(torch.argmax(result.logits))+1"
   ]
  },
  {
   "cell_type": "code",
   "execution_count": 23,
   "metadata": {},
   "outputs": [],
   "source": [
    "def ber_score(review):\n",
    "    bert_tokens =  bert_token.encode(review,return_tensors='pt')\n",
    "    result = bert(bert_tokens)\n",
    "    return int(torch.argmax(result.logits))+1"
   ]
  },
  {
   "cell_type": "code",
   "execution_count": 24,
   "metadata": {},
   "outputs": [
    {
     "data": {
      "application/vnd.jupyter.widget-view+json": {
       "model_id": "3971d8bd4092404db9cb3c8fff3da49f",
       "version_major": 2,
       "version_minor": 0
      },
      "text/plain": [
       "0it [00:00, ?it/s]"
      ]
     },
     "metadata": {},
     "output_type": "display_data"
    }
   ],
   "source": [
    "bert_scores = {'reviews':[],'bert_scores':[]}\n",
    "for i, review in tqdm(enumerate(reviewdf['reviews'])):\n",
    "    review = review[:512]\n",
    "    final_result = ber_score(review=review)\n",
    "    bert_scores['reviews'].append(review)\n",
    "    bert_scores['bert_scores'].append(final_result)\n",
    "\n"
   ]
  },
  {
   "cell_type": "code",
   "execution_count": 25,
   "metadata": {},
   "outputs": [
    {
     "data": {
      "text/html": [
       "<div>\n",
       "<style scoped>\n",
       "    .dataframe tbody tr th:only-of-type {\n",
       "        vertical-align: middle;\n",
       "    }\n",
       "\n",
       "    .dataframe tbody tr th {\n",
       "        vertical-align: top;\n",
       "    }\n",
       "\n",
       "    .dataframe thead th {\n",
       "        text-align: right;\n",
       "    }\n",
       "</style>\n",
       "<table border=\"1\" class=\"dataframe\">\n",
       "  <thead>\n",
       "    <tr style=\"text-align: right;\">\n",
       "      <th></th>\n",
       "      <th>reviews</th>\n",
       "      <th>bert_scores</th>\n",
       "    </tr>\n",
       "  </thead>\n",
       "  <tbody>\n",
       "    <tr>\n",
       "      <th>0</th>\n",
       "      <td>Food was lousy. Who ever is planning the Asian...</td>\n",
       "      <td>2</td>\n",
       "    </tr>\n",
       "    <tr>\n",
       "      <th>1</th>\n",
       "      <td>Had the worst experience. The flight from Lond...</td>\n",
       "      <td>1</td>\n",
       "    </tr>\n",
       "    <tr>\n",
       "      <th>2</th>\n",
       "      <td>The ground staff were not helpful. Felt like a...</td>\n",
       "      <td>2</td>\n",
       "    </tr>\n",
       "    <tr>\n",
       "      <th>3</th>\n",
       "      <td>Second time BA Premium Economy in a newer airc...</td>\n",
       "      <td>4</td>\n",
       "    </tr>\n",
       "    <tr>\n",
       "      <th>4</th>\n",
       "      <td>They changed our Flights from Brussels to Lond...</td>\n",
       "      <td>1</td>\n",
       "    </tr>\n",
       "  </tbody>\n",
       "</table>\n",
       "</div>"
      ],
      "text/plain": [
       "                                             reviews  bert_scores\n",
       "0  Food was lousy. Who ever is planning the Asian...            2\n",
       "1  Had the worst experience. The flight from Lond...            1\n",
       "2  The ground staff were not helpful. Felt like a...            2\n",
       "3  Second time BA Premium Economy in a newer airc...            4\n",
       "4  They changed our Flights from Brussels to Lond...            1"
      ]
     },
     "execution_count": 25,
     "metadata": {},
     "output_type": "execute_result"
    }
   ],
   "source": [
    "bert_scores = pd.DataFrame.from_dict(bert_scores)\n",
    "bert_scores.head()"
   ]
  },
  {
   "cell_type": "code",
   "execution_count": 26,
   "metadata": {},
   "outputs": [
    {
     "data": {
      "text/plain": [
       "'Second time BA Premium Economy in a newer aircraft and yet another excellent experience. Despite a three hour delay and missing my connection in Hong Kong, this was a very pleasant flight. Seats are spacious and comfortable in Premium Economy in this layout, attitude of the cabin crew was excellent and food was good. They communicate well and rebooked my connection during the flight which brought peace of mind. A very pleasant experience in BA Premium Economy after a major disappointment in Club World earli'"
      ]
     },
     "execution_count": 26,
     "metadata": {},
     "output_type": "execute_result"
    }
   ],
   "source": [
    "bert_scores.iloc[3,0]"
   ]
  },
  {
   "cell_type": "code",
   "execution_count": 27,
   "metadata": {},
   "outputs": [
    {
     "data": {
      "text/html": [
       "<div>\n",
       "<style scoped>\n",
       "    .dataframe tbody tr th:only-of-type {\n",
       "        vertical-align: middle;\n",
       "    }\n",
       "\n",
       "    .dataframe tbody tr th {\n",
       "        vertical-align: top;\n",
       "    }\n",
       "\n",
       "    .dataframe thead th {\n",
       "        text-align: right;\n",
       "    }\n",
       "</style>\n",
       "<table border=\"1\" class=\"dataframe\">\n",
       "  <thead>\n",
       "    <tr style=\"text-align: right;\">\n",
       "      <th></th>\n",
       "      <th>reviews</th>\n",
       "      <th>bert_scores</th>\n",
       "      <th>neg</th>\n",
       "      <th>neu</th>\n",
       "      <th>pos</th>\n",
       "      <th>compound</th>\n",
       "      <th>reviewtype</th>\n",
       "    </tr>\n",
       "  </thead>\n",
       "  <tbody>\n",
       "    <tr>\n",
       "      <th>0</th>\n",
       "      <td>The ground staff were not helpful. Felt like a...</td>\n",
       "      <td>2</td>\n",
       "      <td>0.166</td>\n",
       "      <td>0.834</td>\n",
       "      <td>0.000</td>\n",
       "      <td>-0.8537</td>\n",
       "      <td>negative</td>\n",
       "    </tr>\n",
       "    <tr>\n",
       "      <th>1</th>\n",
       "      <td>At Copenhagen the most chaotic ticket counter ...</td>\n",
       "      <td>1</td>\n",
       "      <td>0.099</td>\n",
       "      <td>0.763</td>\n",
       "      <td>0.138</td>\n",
       "      <td>0.1015</td>\n",
       "      <td>positive</td>\n",
       "    </tr>\n",
       "    <tr>\n",
       "      <th>2</th>\n",
       "      <td>This is the worst airline. Not one thing went ...</td>\n",
       "      <td>1</td>\n",
       "      <td>0.320</td>\n",
       "      <td>0.680</td>\n",
       "      <td>0.000</td>\n",
       "      <td>-0.9392</td>\n",
       "      <td>negative</td>\n",
       "    </tr>\n",
       "    <tr>\n",
       "      <th>3</th>\n",
       "      <td>Worst aircraft I have ever flown. The seats we...</td>\n",
       "      <td>1</td>\n",
       "      <td>0.181</td>\n",
       "      <td>0.758</td>\n",
       "      <td>0.062</td>\n",
       "      <td>-0.8984</td>\n",
       "      <td>negative</td>\n",
       "    </tr>\n",
       "    <tr>\n",
       "      <th>4</th>\n",
       "      <td>I enjoyed my flight. The boarding was swift an...</td>\n",
       "      <td>4</td>\n",
       "      <td>0.071</td>\n",
       "      <td>0.743</td>\n",
       "      <td>0.186</td>\n",
       "      <td>0.8802</td>\n",
       "      <td>positive</td>\n",
       "    </tr>\n",
       "  </tbody>\n",
       "</table>\n",
       "</div>"
      ],
      "text/plain": [
       "                                             reviews  bert_scores    neg  \\\n",
       "0  The ground staff were not helpful. Felt like a...            2  0.166   \n",
       "1  At Copenhagen the most chaotic ticket counter ...            1  0.099   \n",
       "2  This is the worst airline. Not one thing went ...            1  0.320   \n",
       "3  Worst aircraft I have ever flown. The seats we...            1  0.181   \n",
       "4  I enjoyed my flight. The boarding was swift an...            4  0.071   \n",
       "\n",
       "     neu    pos  compound reviewtype  \n",
       "0  0.834  0.000   -0.8537   negative  \n",
       "1  0.763  0.138    0.1015   positive  \n",
       "2  0.680  0.000   -0.9392   negative  \n",
       "3  0.758  0.062   -0.8984   negative  \n",
       "4  0.743  0.186    0.8802   positive  "
      ]
     },
     "execution_count": 27,
     "metadata": {},
     "output_type": "execute_result"
    }
   ],
   "source": [
    "fulldata =  bert_scores.merge(vader,how='inner')\n",
    "fulldata.head()"
   ]
  },
  {
   "cell_type": "code",
   "execution_count": 41,
   "metadata": {},
   "outputs": [],
   "source": [
    "order_asc = fulldata.groupby('bert_scores')['bert_scores'].count().sort_values(ascending=True).index"
   ]
  },
  {
   "cell_type": "code",
   "execution_count": 56,
   "metadata": {},
   "outputs": [
    {
     "data": {
      "text/plain": [
       "Text(0.5, 0, 'bert scores')"
      ]
     },
     "execution_count": 56,
     "metadata": {},
     "output_type": "execute_result"
    },
    {
     "data": {
      "image/png": "[encoded data removed]",
      "text/plain": [
       "<Figure size 432x288 with 1 Axes>"
      ]
     },
     "metadata": {},
     "output_type": "display_data"
    }
   ],
   "source": [
    "ax = sns.countplot(data=fulldata,x='bert_scores',order=order_asc)\n",
    "plt.title('BERT model scores')\n",
    "plt.ylabel('count of reviews')\n",
    "plt.xlabel('bert scores')"
   ]
  },
  {
   "cell_type": "code",
   "execution_count": 48,
   "metadata": {},
   "outputs": [
    {
     "data": {
      "text/html": [
       "<div>\n",
       "<style scoped>\n",
       "    .dataframe tbody tr th:only-of-type {\n",
       "        vertical-align: middle;\n",
       "    }\n",
       "\n",
       "    .dataframe tbody tr th {\n",
       "        vertical-align: top;\n",
       "    }\n",
       "\n",
       "    .dataframe thead th {\n",
       "        text-align: right;\n",
       "    }\n",
       "</style>\n",
       "<table border=\"1\" class=\"dataframe\">\n",
       "  <thead>\n",
       "    <tr style=\"text-align: right;\">\n",
       "      <th></th>\n",
       "      <th>bert_scores</th>\n",
       "      <th>neg</th>\n",
       "      <th>neu</th>\n",
       "      <th>pos</th>\n",
       "      <th>compound</th>\n",
       "    </tr>\n",
       "  </thead>\n",
       "  <tbody>\n",
       "    <tr>\n",
       "      <th>bert_scores</th>\n",
       "      <td>1.000000</td>\n",
       "      <td>-0.619490</td>\n",
       "      <td>-0.443836</td>\n",
       "      <td>0.776870</td>\n",
       "      <td>0.764776</td>\n",
       "    </tr>\n",
       "    <tr>\n",
       "      <th>neg</th>\n",
       "      <td>-0.619490</td>\n",
       "      <td>1.000000</td>\n",
       "      <td>-0.112040</td>\n",
       "      <td>-0.567702</td>\n",
       "      <td>-0.810997</td>\n",
       "    </tr>\n",
       "    <tr>\n",
       "      <th>neu</th>\n",
       "      <td>-0.443836</td>\n",
       "      <td>-0.112040</td>\n",
       "      <td>1.000000</td>\n",
       "      <td>-0.754438</td>\n",
       "      <td>-0.330885</td>\n",
       "    </tr>\n",
       "    <tr>\n",
       "      <th>pos</th>\n",
       "      <td>0.776870</td>\n",
       "      <td>-0.567702</td>\n",
       "      <td>-0.754438</td>\n",
       "      <td>1.000000</td>\n",
       "      <td>0.809783</td>\n",
       "    </tr>\n",
       "    <tr>\n",
       "      <th>compound</th>\n",
       "      <td>0.764776</td>\n",
       "      <td>-0.810997</td>\n",
       "      <td>-0.330885</td>\n",
       "      <td>0.809783</td>\n",
       "      <td>1.000000</td>\n",
       "    </tr>\n",
       "  </tbody>\n",
       "</table>\n",
       "</div>"
      ],
      "text/plain": [
       "             bert_scores       neg       neu       pos  compound\n",
       "bert_scores     1.000000 -0.619490 -0.443836  0.776870  0.764776\n",
       "neg            -0.619490  1.000000 -0.112040 -0.567702 -0.810997\n",
       "neu            -0.443836 -0.112040  1.000000 -0.754438 -0.330885\n",
       "pos             0.776870 -0.567702 -0.754438  1.000000  0.809783\n",
       "compound        0.764776 -0.810997 -0.330885  0.809783  1.000000"
      ]
     },
     "execution_count": 48,
     "metadata": {},
     "output_type": "execute_result"
    }
   ],
   "source": [
    "corr_matrix  = fulldata.corr()\n",
    "corr_matrix"
   ]
  },
  {
   "cell_type": "code",
   "execution_count": 55,
   "metadata": {},
   "outputs": [
    {
     "data": {
      "text/plain": [
       "Text(0.5, 0, 'bert scores')"
      ]
     },
     "execution_count": 55,
     "metadata": {},
     "output_type": "execute_result"
    },
    {
     "data": {
      "image/png": "[encoded data removed]",
      "text/plain": [
       "<Figure size 432x288 with 1 Axes>"
      ]
     },
     "metadata": {},
     "output_type": "display_data"
    }
   ],
   "source": [
    "ax = sns.barplot(data=fulldata , x = 'bert_scores', y = 'compound')\n",
    "plt.title('Bert scores vs the compound')\n",
    "plt.xlabel('bert scores')\n",
    "\n"
   ]
  }
 ],
 "metadata": {
  "kernelspec": {
   "display_name": "Python 3.9.13 ('venv': venv)",
   "language": "python",
   "name": "python3"
  },
  "language_info": {
   "codemirror_mode": {
    "name": "ipython",
    "version": 3
   },
   "file_extension": ".py",
   "mimetype": "text/x-python",
   "name": "python",
   "nbconvert_exporter": "python",
   "pygments_lexer": "ipython3",
   "version": "3.9.12"
  },
  "orig_nbformat": 4,
  "vscode": {
   "interpreter": {
    "hash": "4f7924c4c56b083e0e50eadfe7ef592a7a8ef70df33a0047f82280e6be1afe15"
   }
  }
 },
 "nbformat": 4,
 "nbformat_minor": 2
}
